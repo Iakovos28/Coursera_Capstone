{
    "cells": [
        {
            "cell_type": "markdown",
            "metadata": {
                "collapsed": true
            },
            "source": "# Comparing neighborhoods in Fort Worth, Texas using _k-means_ clustering"
        },
        {
            "cell_type": "markdown",
            "metadata": {},
            "source": "__Introduction:__ Many people are currently leaving major west coast US cities to move to Texas. My family is among those planning such a move from Portland, OR to Texas. The primary drivers for us and many others are the rising housing costs, increased cost of living, rising crime, job opportunities, and political unrest. The purpose of this Data Science project is to provide a framework for exploring neighborhoods in Texas to determine which areas to consider moving to and will explore factors including crime rates, unemployment rates, percent near libraries/parks, and availability of grocery stores, restaurants, and other amenities. I will specifically be exploring neighborhoods in Fort Worth as this is where we are considering moving but the code will be applicable to other cities/neighborhoods and will only need to be updated with specific datasets for whatever area is being considered."
        },
        {
            "cell_type": "markdown",
            "metadata": {},
            "source": "__The Data:__ In order to create the necessary dataframe I will be using a CSV file provided by https://data.fortworthtexas.gov/api/views/ruhd-2sjc/rows.csv?accessType=DOWNLOAD which includes location, crime, unemployment, and percent near libraries/parks (along with other data I am not interested in for this effort) along with the Foursquare API for other amenity and rating information."
        },
        {
            "cell_type": "code",
            "execution_count": null,
            "metadata": {},
            "outputs": [],
            "source": ""
        }
    ],
    "metadata": {
        "kernelspec": {
            "display_name": "Python 3.7",
            "language": "python",
            "name": "python3"
        },
        "language_info": {
            "codemirror_mode": {
                "name": "ipython",
                "version": 3
            },
            "file_extension": ".py",
            "mimetype": "text/x-python",
            "name": "python",
            "nbconvert_exporter": "python",
            "pygments_lexer": "ipython3",
            "version": "3.7.10"
        }
    },
    "nbformat": 4,
    "nbformat_minor": 1
}